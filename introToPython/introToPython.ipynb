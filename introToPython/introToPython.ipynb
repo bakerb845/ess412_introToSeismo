{
 "cells": [
  {
   "cell_type": "markdown",
   "metadata": {
    "nbpresent": {
     "id": "3fdd50f6-5702-4eeb-87a5-ebf3b7ffc414"
    }
   },
   "source": [
    "# Python Basics - Distinguishing Comments from Code\n",
    "\n",
    "Python is an interpreted language that will look and feel quite similar to Matlab.  However, it is has it's peculiarities.  To gain some brief familiarity with Python let's do a few activitives.  First, it is important to be able to distinguish from code and comments.  Comments can be identified by the pound sign:\n",
    "\n",
    "where you can write whatever\n",
    "\n",
    "ZZXcXZCx\n"
   ]
  },
  {
   "cell_type": "code",
   "execution_count": 1,
   "metadata": {
    "nbpresent": {
     "id": "682f37e0-1a77-49cc-af9a-7bf637e69ba0"
    }
   },
   "outputs": [
    {
     "data": {
      "text/plain": [
       "'\\nasdfsd sfddsfdsf\\n'"
      ]
     },
     "execution_count": 1,
     "metadata": {},
     "output_type": "execute_result"
    }
   ],
   "source": [
    "# This is a comment.\n",
    "\"\"\"\n",
    "asdfsd sfddsfdsf\n",
    "\"\"\"\n"
   ]
  },
  {
   "cell_type": "markdown",
   "metadata": {
    "nbpresent": {
     "id": "ae09c687-7c83-48e6-9be0-12b9ab573a6d"
    }
   },
   "source": [
    "The alternative to a comment is actual Python code.  For example, a variable, a, can be set to 2 by specifying:"
   ]
  },
  {
   "cell_type": "code",
   "execution_count": 2,
   "metadata": {
    "nbpresent": {
     "id": "daead8db-91c5-4ac0-8ee1-f327965c67bd"
    }
   },
   "outputs": [],
   "source": [
    "a = 2.0 "
   ]
  },
  {
   "cell_type": "markdown",
   "metadata": {
    "nbpresent": {
     "id": "a2465c0b-7e82-4ba5-b39c-40a370de4001"
    }
   },
   "source": [
    "To view the value of a have Python print it to the console by using the print statement"
   ]
  },
  {
   "cell_type": "code",
   "execution_count": 3,
   "metadata": {
    "nbpresent": {
     "id": "05c46d82-a080-4345-bdd4-2ecc321fed18"
    }
   },
   "outputs": [
    {
     "name": "stdout",
     "output_type": "stream",
     "text": [
      "2.0\n"
     ]
    }
   ],
   "source": [
    "#print a #Python 2\n",
    "print(a) #Python3"
   ]
  },
  {
   "cell_type": "markdown",
   "metadata": {},
   "source": [
    "# Markdown is pretty cool\n",
    "\n",
    "If you are familar with $\\LaTeX$ then you can make equations\n",
    "$$\n",
    "  y = \\int_0^1 \\sin^2 x \\, dx\n",
    "$$\n",
    "This can help you explain code segments in a format that is much easier to read.  You can learn ways to make more equations at this [LaTeX Wiki](https://en.wikibooks.org/wiki/LaTeX/Mathematics) or just Google latex help (which may generate some pretty strange results at first until your browser gets to know you better). "
   ]
  },
  {
   "cell_type": "code",
   "execution_count": 4,
   "metadata": {},
   "outputs": [],
   "source": [
    "#f = integrate(sin(x)*sin(x), x, 0, 1)"
   ]
  },
  {
   "cell_type": "markdown",
   "metadata": {
    "nbpresent": {
     "id": "451b7925-32cd-49c3-9093-75d4ecefe04e"
    }
   },
   "source": [
    "# Python Basics - Looping and Logic\n",
    "\n",
    "The advantage of computers is they can do many calculations in a short amount of time.  And they can also evaluate some basic logical arguments (and, or, equality).  For example, the values from 1 to 10 can be printed to the terminal with the following loop."
   ]
  },
  {
   "cell_type": "code",
   "execution_count": 5,
   "metadata": {
    "nbpresent": {
     "id": "878ac76e-8f0e-4b48-8a40-4ea820945dd3"
    }
   },
   "outputs": [
    {
     "name": "stdout",
     "output_type": "stream",
     "text": [
      "0 1\n",
      "1 2\n",
      "2 3\n",
      "3 4\n",
      "4 5\n",
      "5 6\n",
      "6 7\n",
      "7 8\n",
      "8 9\n",
      "9 10\n"
     ]
    }
   ],
   "source": [
    "for i in range(10):\n",
    "    print(i, i+1)"
   ]
  },
  {
   "cell_type": "markdown",
   "metadata": {
    "nbpresent": {
     "id": "6b9e3894-5b5a-487a-9754-ab20f6c818e1"
    }
   },
   "source": [
    "Notice that Python (like C, the language on which Python is built), begins counting at 0 instead of 1.  This will likely cause Matlab users some grief.  \n",
    "\n",
    "Also, while it is not obvious, in Python indentation matters.  For example"
   ]
  },
  {
   "cell_type": "code",
   "execution_count": 6,
   "metadata": {
    "nbpresent": {
     "id": "c2c2e03f-3e27-4934-8256-5089563748b6"
    }
   },
   "outputs": [
    {
     "name": "stdout",
     "output_type": "stream",
     "text": [
      "1\n",
      "2\n",
      "3\n",
      "4\n",
      "5\n",
      "6\n",
      "7\n",
      "8\n",
      "9\n",
      "10\n"
     ]
    }
   ],
   "source": [
    "for i in range(10):\n",
    "    print(i+1)\n",
    "a = 3\n"
   ]
  },
  {
   "cell_type": "markdown",
   "metadata": {
    "nbpresent": {
     "id": "b7be8ab7-f2f7-4e99-b527-a33b08e7d7f4"
    }
   },
   "source": [
    "will throw an indentation error.  \n",
    "\n",
    "Logical statements can also be evaluated.  For example, equality can be tested with the following code segment"
   ]
  },
  {
   "cell_type": "code",
   "execution_count": 7,
   "metadata": {
    "nbpresent": {
     "id": "eb6b1802-e8b7-4cc0-a92e-bb4a86767f38"
    }
   },
   "outputs": [
    {
     "name": "stdout",
     "output_type": "stream",
     "text": [
      "a=1 is less than b=2\n"
     ]
    }
   ],
   "source": [
    "a = 1\n",
    "b = 2\n",
    "# Check if a is equal to b\n",
    "if (a == b):\n",
    "    print(\"a equals b\")\n",
    "# If a is not equal to be then check if a is less than b\n",
    "elif (a < b):\n",
    "    print(\"a=%d is less than b=%d\"%(a, b)) # This is a formatted print statement followed by a comment\n",
    "# If a is not equal to be and is not less than b, then it is good practice to have a catch-all\n",
    "else:\n",
    "    # A consequence of the indentation rule is my comment must be indented as well\n",
    "    print(\"a=%d is greater than b=%d\"%(a, b))\n"
   ]
  },
  {
   "cell_type": "markdown",
   "metadata": {
    "nbpresent": {
     "id": "72b315cb-eff8-4551-b85c-06fb65db0d19"
    }
   },
   "source": [
    "# Python Basics - Importing Tools\n",
    "\n",
    "The strength of Python is that it isn't particularly good at anything!  Consequently, Python has developed a strategy of easily incorporating outside tools (packages, libraries).  Two modules that will be used extensively in this class will be [SciPy](https://www.scipy.org/) which contains [Numpy](https://www.numpy.org) and [ObsPy](https://docs.obspy.org/).  As a simple example, the sine of three numbers will be computed."
   ]
  },
  {
   "cell_type": "code",
   "execution_count": 8,
   "metadata": {
    "nbpresent": {
     "id": "859e3c0c-0fd6-4887-8db1-a33718f525ac"
    }
   },
   "outputs": [
    {
     "name": "stdout",
     "output_type": "stream",
     "text": [
      "The maximum difference between both methods is: 0.0\n",
      "[ 0.00000000e+00  6.34239197e-02  1.26592454e-01  1.89251244e-01\n",
      "  2.51147987e-01  3.12033446e-01  3.71662456e-01  4.29794912e-01\n",
      "  4.86196736e-01  5.40640817e-01  5.92907929e-01  6.42787610e-01\n",
      "  6.90079011e-01  7.34591709e-01  7.76146464e-01  8.14575952e-01\n",
      "  8.49725430e-01  8.81453363e-01  9.09631995e-01  9.34147860e-01\n",
      "  9.54902241e-01  9.71811568e-01  9.84807753e-01  9.93838464e-01\n",
      "  9.98867339e-01  9.99874128e-01  9.96854776e-01  9.89821442e-01\n",
      "  9.78802446e-01  9.63842159e-01  9.45000819e-01  9.22354294e-01\n",
      "  8.95993774e-01  8.66025404e-01  8.32569855e-01  7.95761841e-01\n",
      "  7.55749574e-01  7.12694171e-01  6.66769001e-01  6.18158986e-01\n",
      "  5.67059864e-01  5.13677392e-01  4.58226522e-01  4.00930535e-01\n",
      "  3.42020143e-01  2.81732557e-01  2.20310533e-01  1.58001396e-01\n",
      "  9.50560433e-02  3.17279335e-02 -3.17279335e-02 -9.50560433e-02\n",
      " -1.58001396e-01 -2.20310533e-01 -2.81732557e-01 -3.42020143e-01\n",
      " -4.00930535e-01 -4.58226522e-01 -5.13677392e-01 -5.67059864e-01\n",
      " -6.18158986e-01 -6.66769001e-01 -7.12694171e-01 -7.55749574e-01\n",
      " -7.95761841e-01 -8.32569855e-01 -8.66025404e-01 -8.95993774e-01\n",
      " -9.22354294e-01 -9.45000819e-01 -9.63842159e-01 -9.78802446e-01\n",
      " -9.89821442e-01 -9.96854776e-01 -9.99874128e-01 -9.98867339e-01\n",
      " -9.93838464e-01 -9.84807753e-01 -9.71811568e-01 -9.54902241e-01\n",
      " -9.34147860e-01 -9.09631995e-01 -8.81453363e-01 -8.49725430e-01\n",
      " -8.14575952e-01 -7.76146464e-01 -7.34591709e-01 -6.90079011e-01\n",
      " -6.42787610e-01 -5.92907929e-01 -5.40640817e-01 -4.86196736e-01\n",
      " -4.29794912e-01 -3.71662456e-01 -3.12033446e-01 -2.51147987e-01\n",
      " -1.89251244e-01 -1.26592454e-01 -6.34239197e-02 -2.44929360e-16]\n"
     ]
    }
   ],
   "source": [
    "from numpy import linspace\n",
    "from numpy import sin\n",
    "from numpy import pi\n",
    "# Compute the 100 x abscissas from [0,2pi] at which the sin will be calculated\n",
    "x = linspace(0, 2*pi, 100)\n",
    "# Notice that Python `vectorizes' and will automatically apply the sin operation to every\n",
    "# element of the array x.\n",
    "sinx = sin(x)\n",
    "\n",
    "# It would be equivalent, however, considerably slower to do the following:\n",
    "from numpy import zeros\n",
    "sinxSlow = zeros(len(x))\n",
    "for i in range(len(x)):\n",
    "    sinxSlow[i] = sin(x[i])\n",
    "print(\"The maximum difference between both methods is:\", max(sinxSlow - sinx))\n",
    "\n",
    "print(sinx)"
   ]
  },
  {
   "cell_type": "markdown",
   "metadata": {
    "nbpresent": {
     "id": "cb17148d-d970-4e91-8cf8-b4b2275f0b05"
    }
   },
   "source": [
    "# Python Basics - Plotting\n",
    "\n",
    "Very frequently in this class we will want to plot our results.  We simply can do better analyses and gain greater insights from a graphical representation of an image rather than a list of numbers.  Plotting is also something that I find requires conceptual practice because a function must be generated (derived) and evaluated at points of interest in the domain (x-axis).  \n",
    "\n",
    "Continuing with the previous example, we have already decided on the domain, $x \\in [0, 2\\pi]$, and evaluated the sine function at these points yielding y values, $y = \\sin(x)$.  Now, what remains to be done is to plot the function.  As will almost assuredly be the case, there exists a package for just this activity (you will very rarely need to ever roll your own with Python)."
   ]
  },
  {
   "cell_type": "code",
   "execution_count": 10,
   "metadata": {
    "nbpresent": {
     "id": "a155e084-d37b-414b-b3d5-35cb34ed2d6c"
    }
   },
   "outputs": [
    {
     "data": {
      "image/png": "[encoded data removed]",
      "text/plain": [
       "<Figure size 432x288 with 1 Axes>"
      ]
     },
     "metadata": {
      "needs_background": "light"
     },
     "output_type": "display_data"
    }
   ],
   "source": [
    "# Finally, plot the sin.  Here, I'm importing a module called matplotlib.pyplot and I will refer to it hereon\n",
    "# as `plt.'\n",
    "import matplotlib.pyplot as plt\n",
    "# Make a 2D x-y plot\n",
    "plt.plot(x, sinx)\n",
    "# Label my axes and give the plot a title\n",
    "plt.xlabel('x')\n",
    "plt.ylabel('y')\n",
    "plt.title('sin(x)')\n",
    "# Now show it to the user\n",
    "plt.show()"
   ]
  },
  {
   "cell_type": "markdown",
   "metadata": {},
   "source": [
    "# Functions\n",
    "\n",
    "Typically we do not want monolithic codes because they are hard to maintain and repurpose.  Consequently, we write functions.  While it is _always_ recommended to use pre-made functions from a library it sometimes will be necessary to roll your own.  For example, if I need a function that computes\n",
    "\n",
    "$$\n",
    "  y = 2*x + 1\n",
    "$$\n",
    "\n",
    "I could write"
   ]
  },
  {
   "cell_type": "code",
   "execution_count": 12,
   "metadata": {},
   "outputs": [],
   "source": [
    "def twoXPlus1(x):\n",
    "    \"\"\"\n",
    "    Computes y = 2*x + 1.\n",
    "    \n",
    "    Parameters\n",
    "    ----------\n",
    "    x : array_like\n",
    "    array for which y = 2*x + 1 will be computed.\n",
    "    \n",
    "    Returns\n",
    "    -------\n",
    "    y : array_like \n",
    "    The result y = 2*x + 1.\n",
    "    \"\"\"\n",
    "    y = 2*x + 1\n",
    "    #print(\"The result: \", y)\n",
    "    return y"
   ]
  },
  {
   "cell_type": "code",
   "execution_count": 14,
   "metadata": {},
   "outputs": [
    {
     "name": "stdout",
     "output_type": "stream",
     "text": [
      "\n",
      "    Computes y = 2*x + 1.\n",
      "    \n",
      "    Parameters\n",
      "    ----------\n",
      "    x : array_like\n",
      "    array for which y = 2*x + 1 will be computed.\n",
      "    \n",
      "    Returns\n",
      "    -------\n",
      "    y : array_like \n",
      "    The result y = 2*x + 1.\n",
      "    \n",
      "y= [3. 3. 3. 3.]\n"
     ]
    }
   ],
   "source": [
    "# An example of calling twoXPlus1\n",
    "from numpy import ones\n",
    "x = ones(4)\n",
    "# An example of getting the documentation\n",
    "print(twoXPlus1.__doc__)\n",
    "y = twoXPlus1(x)\n",
    "print(\"y=\", y)"
   ]
  },
  {
   "cell_type": "markdown",
   "metadata": {
    "nbpresent": {
     "id": "0ed028a1-8df3-454d-a11d-b1e73e9d11e5"
    }
   },
   "source": [
    "# Python Basics - A Stressful Example\n",
    "\n",
    "Here, some NumPy functionality is introduced by following along with example 2.1.3 of Shearer. "
   ]
  },
  {
   "cell_type": "code",
   "execution_count": 15,
   "metadata": {
    "nbpresent": {
     "id": "64806d02-02bd-4a2c-aa1c-bba2842ca4bc"
    }
   },
   "outputs": [
    {
     "name": "stdout",
     "output_type": "stream",
     "text": [
      "The stress tensor is:\n",
      " [[-40 -10]\n",
      " [-10 -60]]\n",
      "The traction vector is given by:\n",
      " [[-35.35533906]\n",
      " [-49.49747468]]\n",
      "The fault normal compressive stress is: 60.00000000000001 MPa\n",
      "The shear stress is: 9.999999999999996 MPa\n",
      "The eigenvalues are:\n",
      " [-64.14213562 -35.85786438]\n",
      "The corresponding eigenvectors are:\n",
      " [[ 0.38268343  0.92387953]\n",
      " [ 0.92387953 -0.38268343]]\n",
      "The maximum compressive stress is at angle 67.500000 to the x axis.\n"
     ]
    }
   ],
   "source": [
    "from numpy import matrix\n",
    "from numpy import array\n",
    "from numpy import dot\n",
    "from numpy.linalg import eig\n",
    "from numpy.linalg import norm\n",
    "from numpy import sqrt, sin, cos\n",
    "from math import pi\n",
    "from math import atan2\n",
    "# A matrix is an array of arrays stored row-wise.  Shearer 2.1.3\n",
    "# tau = [-40 -10]\n",
    "#       [-10 -60]\n",
    "tau = matrix([[-40, -10], [-10, -60]])\n",
    "print(\"The stress tensor is:\\n\", tau)\n",
    "# Compute the traction vector for a fault oriented 45 degrees (clockwise) from the x-axis.\n",
    "# That is 45 + 90 degrees (clockwise) from the y axis.\n",
    "strike = 135.0 \n",
    "strikeRad = strike*pi/180.0 # trigonmetric functions work in radians\n",
    "f = matrix([[sin(strikeRad)], [cos(strikeRad)]])\n",
    "# The book's unstated convention is to make +n always have a positive +East component.\n",
    "# The normal is the parallel rotated 90 degrees.  A rotation matrix is given by:\n",
    "# R = [ cos(theta)  -sin(theta)]\n",
    "#     [ sin(theta)   cos(theta)]\n",
    "# When evaluated at pi/2 this rotation matrix reduces to \n",
    "# R = [ 0 -1]\n",
    "#     [ 1  0]\n",
    "R = matrix([ [0, -1], [1, 0]] ) # In the homework to achieve a +E normal use a -90 degree rotation matrix\n",
    "n = R*f \n",
    "# Compute the traction vector\n",
    "tractionVec = tau*n\n",
    "print(\"The traction vector is given by:\\n\", tractionVec)\n",
    "faultNormalCompressiveStress = -dot(tractionVec.T, n)[0,0] # Negative b/c it needs to point inward\n",
    "faultShearStress = dot(tractionVec.T, f)[0,0] # Solution manual in homework will take absolute value\n",
    "print(\"The fault normal compressive stress is:\", faultNormalCompressiveStress, \"MPa\")\n",
    "print(\"The shear stress is:\", faultShearStress, \"MPa\")\n",
    "# Compute the eigenvalues and eigenvectors (this is equation 2.5 where the roots of some\n",
    "# quadratic equation must be determined and the corresonding eigenvectors solved for). \n",
    "# Numerically, what is computed is much different than what you were taught in math class.\n",
    "eigVal, eigVec = eig(tau)\n",
    "idx = abs(eigVal).argsort()[::-1] # sort eigenvalues in descending order (based on magnitude)\n",
    "eigVal = eigVal[idx]   # This will permute the eigenvalues into descending order and overwrite eigVal\n",
    "eigVec = eigVec[:,idx] # This will permute the columns of the eigenvector matrix to match the eigenvalues\n",
    "print(\"The eigenvalues are:\\n\", eigVal)\n",
    "print(\"The corresponding eigenvectors are:\\n\", eigVec)\n",
    "# Compute the angles from the x axis (see Fig 2.2).  \n",
    "theta1 = atan2(eigVec[1,0], eigVec[0,0])*180.0/pi # Be careful in the homework - it wants East of North\n",
    "theta2 = atan2(eigVec[1,1], eigVec[0,1])*180.0/pi # Be careful in the homework - it wants East of North\n",
    "# The book desires the maximum stress angle.  That indicates it wants the eigenvalue with the largest\n",
    "# absolute value.  Because they are sorted in descending order then this is the first eigenvalue.\n",
    "print(\"The maximum compressive stress is at angle %f to the x axis.\"%theta1)"
   ]
  },
  {
   "cell_type": "markdown",
   "metadata": {
    "collapsed": true
   },
   "source": [
    "# Things your homework should have\n",
    "\n",
    "1. The homework assignment\n",
    "2. Your name\n",
    "3. The date\n",
    "4. Sections of code with comments (I won't grade or debug these based on style but I will skim through your logic)\n",
    "5. Numbers and pictures of numbers\n",
    "6. Written descriptions of numbers and pictures.  Writing _111.195_ without some words around it is pointless (though we will all come to learn that it is an approximation for the number of kilometers per degree).  \n",
    "\n",
    "Here's an example:\n",
    "\n",
    "## Homework 1\n",
    "## Name: Thomas A. Anderson\n",
    "## Date: 1/4/2017\n"
   ]
  },
  {
   "cell_type": "code",
   "execution_count": 24,
   "metadata": {},
   "outputs": [
    {
     "name": "stdout",
     "output_type": "stream",
     "text": [
      "sys.version_info(major=3, minor=6, micro=3, releaselevel='final', serial=0)\n"
     ]
    }
   ],
   "source": [
    "# I'm curious what Azure's system info is - i should do this first\n",
    "import sys\n",
    "print(sys.version_info)"
   ]
  },
  {
   "cell_type": "code",
   "execution_count": null,
   "metadata": {
    "collapsed": true
   },
   "outputs": [],
   "source": []
  }
 ],
 "metadata": {
  "anaconda-cloud": {},
  "kernelspec": {
   "display_name": "Python 3",
   "language": "python",
   "name": "python3"
  },
  "language_info": {
   "codemirror_mode": {
    "name": "ipython",
    "version": 3
   },
   "file_extension": ".py",
   "mimetype": "text/x-python",
   "name": "python",
   "nbconvert_exporter": "python",
   "pygments_lexer": "ipython3",
   "version": "3.6.6"
  },
  "nbpresent": {
   "slides": {
    "05d8b84b-853e-4e68-a4bd-400638955b5f": {
     "id": "05d8b84b-853e-4e68-a4bd-400638955b5f",
     "prev": "bd147705-375a-4010-b9cd-9bfad14e131f",
     "regions": {
      "bc53801d-dd7a-4721-8e28-54bb45f2c2a9": {
       "attrs": {
        "height": 0.8,
        "width": 0.8,
        "x": 0.1,
        "y": 0.1
       },
       "content": {
        "cell": "8d4799be-1fc2-4fcc-a1f6-e07250e9c7a8",
        "part": "whole"
       },
       "id": "bc53801d-dd7a-4721-8e28-54bb45f2c2a9"
      }
     }
    },
    "15a0e6e1-ab8c-4348-8c60-550a78ab8a63": {
     "id": "15a0e6e1-ab8c-4348-8c60-550a78ab8a63",
     "prev": "ab37a94c-d28c-4756-8c7f-a2719c8c6c9c",
     "regions": {
      "ae661334-a582-4522-a705-85526d2a5cca": {
       "attrs": {
        "height": 0.8,
        "width": 0.8,
        "x": 0.1,
        "y": 0.1
       },
       "content": {
        "cell": "cb17148d-d970-4e91-8cf8-b4b2275f0b05",
        "part": "whole"
       },
       "id": "ae661334-a582-4522-a705-85526d2a5cca"
      }
     }
    },
    "2514fd57-449a-40b7-aba3-c73caba85fb7": {
     "id": "2514fd57-449a-40b7-aba3-c73caba85fb7",
     "prev": "6e1f8f2b-f894-4032-ae79-5d480f7c821c",
     "regions": {
      "0740f5c7-8943-4b2c-af68-7d19079296d8": {
       "attrs": {
        "height": 0.8,
        "width": 0.8,
        "x": 0.1,
        "y": 0.1
       },
       "content": {
        "cell": "b1673980-ec64-40c0-b74d-23edb6a519de",
        "part": "whole"
       },
       "id": "0740f5c7-8943-4b2c-af68-7d19079296d8"
      }
     }
    },
    "26d0b1f4-140a-40b3-845f-6fd425a610d9": {
     "id": "26d0b1f4-140a-40b3-845f-6fd425a610d9",
     "prev": "a3994f16-fa07-441a-8476-3908c5b2bb0f",
     "regions": {
      "b60e54d7-1763-47e9-967f-6b26ece83712": {
       "attrs": {
        "height": 0.8,
        "width": 0.8,
        "x": 0.1,
        "y": 0.1
       },
       "content": {
        "cell": "72b315cb-eff8-4551-b85c-06fb65db0d19",
        "part": "whole"
       },
       "id": "b60e54d7-1763-47e9-967f-6b26ece83712"
      }
     }
    },
    "2fd7197d-34d6-4e56-80e2-f47650cd0145": {
     "id": "2fd7197d-34d6-4e56-80e2-f47650cd0145",
     "prev": "b0e1146c-6aa5-4257-9cfa-73b795b62ddd",
     "regions": {
      "43c00b44-067e-467e-b211-d76c8f8aedac": {
       "attrs": {
        "height": 0.8,
        "width": 0.8,
        "x": 0.1,
        "y": 0.1
       },
       "content": {
        "cell": "ae09c687-7c83-48e6-9be0-12b9ab573a6d",
        "part": "whole"
       },
       "id": "43c00b44-067e-467e-b211-d76c8f8aedac"
      }
     }
    },
    "3ddc1671-126f-4603-a802-3903c3668393": {
     "id": "3ddc1671-126f-4603-a802-3903c3668393",
     "prev": "dda5d129-20b9-44a4-bd28-9bb0a898c175",
     "regions": {
      "31dbc4d0-c1df-454e-ae9c-efb7cf4f9be3": {
       "attrs": {
        "height": 0.8,
        "width": 0.8,
        "x": 0.1,
        "y": 0.1
       },
       "content": {
        "cell": "05c46d82-a080-4345-bdd4-2ecc321fed18",
        "part": "whole"
       },
       "id": "31dbc4d0-c1df-454e-ae9c-efb7cf4f9be3"
      }
     }
    },
    "52d4834e-3c84-4638-acd3-168c9362884c": {
     "id": "52d4834e-3c84-4638-acd3-168c9362884c",
     "prev": "2fd7197d-34d6-4e56-80e2-f47650cd0145",
     "regions": {
      "59fc9f9c-ab7a-4573-87c7-8ac0882def17": {
       "attrs": {
        "height": 0.8,
        "width": 0.8,
        "x": 0.1,
        "y": 0.1
       },
       "content": {
        "cell": "daead8db-91c5-4ac0-8ee1-f327965c67bd",
        "part": "whole"
       },
       "id": "59fc9f9c-ab7a-4573-87c7-8ac0882def17"
      }
     }
    },
    "6d7f0a47-0b66-4dd7-acf2-22c4cfc326a2": {
     "id": "6d7f0a47-0b66-4dd7-acf2-22c4cfc326a2",
     "prev": "15a0e6e1-ab8c-4348-8c60-550a78ab8a63",
     "regions": {
      "def8b0be-a240-46fe-9b4c-29fbc07b0b60": {
       "attrs": {
        "height": 0.8,
        "width": 0.8,
        "x": 0.1,
        "y": 0.1
       },
       "content": {
        "cell": "a155e084-d37b-414b-b3d5-35cb34ed2d6c",
        "part": "whole"
       },
       "id": "def8b0be-a240-46fe-9b4c-29fbc07b0b60"
      }
     }
    },
    "6e1f8f2b-f894-4032-ae79-5d480f7c821c": {
     "id": "6e1f8f2b-f894-4032-ae79-5d480f7c821c",
     "prev": null,
     "regions": {
      "b71d4069-aa89-4654-84af-1ddda50ebab5": {
       "attrs": {
        "height": 0.8,
        "width": 0.8,
        "x": 0.1,
        "y": 0.1
       },
       "content": {
        "cell": "86b7ef89-1537-43a5-a412-0c21aeace795",
        "part": "whole"
       },
       "id": "b71d4069-aa89-4654-84af-1ddda50ebab5"
      }
     }
    },
    "6e4346f0-c44a-49c0-8bdb-03982afe50d6": {
     "id": "6e4346f0-c44a-49c0-8bdb-03982afe50d6",
     "prev": "80cd95ec-d933-40fb-a34c-a39fe77ade9f",
     "regions": {
      "6b732a9a-5b47-4ed1-8108-0473cc59cfbb": {
       "attrs": {
        "height": 0.8,
        "width": 0.8,
        "x": 0.1,
        "y": 0.1
       },
       "content": {
        "cell": "c2c2e03f-3e27-4934-8256-5089563748b6",
        "part": "whole"
       },
       "id": "6b732a9a-5b47-4ed1-8108-0473cc59cfbb"
      }
     }
    },
    "80cd95ec-d933-40fb-a34c-a39fe77ade9f": {
     "id": "80cd95ec-d933-40fb-a34c-a39fe77ade9f",
     "prev": "d84dbfaf-89b2-4e04-99d0-de9f77958c7c",
     "regions": {
      "bc20521c-b818-4db9-9684-761564afec23": {
       "attrs": {
        "height": 0.8,
        "width": 0.8,
        "x": 0.1,
        "y": 0.1
       },
       "content": {
        "cell": "6b9e3894-5b5a-487a-9754-ab20f6c818e1",
        "part": "whole"
       },
       "id": "bc20521c-b818-4db9-9684-761564afec23"
      }
     }
    },
    "94fdc3da-0ffd-4da7-a7c3-2a7b4211e266": {
     "id": "94fdc3da-0ffd-4da7-a7c3-2a7b4211e266",
     "prev": "6d7f0a47-0b66-4dd7-acf2-22c4cfc326a2",
     "regions": {
      "3c8cf35a-d496-43cb-9e4f-d5d043c11d70": {
       "attrs": {
        "height": 0.8,
        "width": 0.8,
        "x": 0.1,
        "y": 0.1
       },
       "content": {
        "cell": "0ed028a1-8df3-454d-a11d-b1e73e9d11e5",
        "part": "whole"
       },
       "id": "3c8cf35a-d496-43cb-9e4f-d5d043c11d70"
      }
     }
    },
    "a3994f16-fa07-441a-8476-3908c5b2bb0f": {
     "id": "a3994f16-fa07-441a-8476-3908c5b2bb0f",
     "prev": "c79afc15-c05c-4caf-8ba3-088966deba9b",
     "regions": {
      "9f7e637d-c411-47b0-8b9a-4af1038ad173": {
       "attrs": {
        "height": 0.8,
        "width": 0.8,
        "x": 0.1,
        "y": 0.1
       },
       "content": {
        "cell": "eb6b1802-e8b7-4cc0-a92e-bb4a86767f38",
        "part": "whole"
       },
       "id": "9f7e637d-c411-47b0-8b9a-4af1038ad173"
      }
     }
    },
    "ab37a94c-d28c-4756-8c7f-a2719c8c6c9c": {
     "id": "ab37a94c-d28c-4756-8c7f-a2719c8c6c9c",
     "prev": "26d0b1f4-140a-40b3-845f-6fd425a610d9",
     "regions": {
      "3844a709-e6da-4694-b174-636737b11d34": {
       "attrs": {
        "height": 0.8,
        "width": 0.8,
        "x": 0.1,
        "y": 0.1
       },
       "content": {
        "cell": "859e3c0c-0fd6-4887-8db1-a33718f525ac",
        "part": "whole"
       },
       "id": "3844a709-e6da-4694-b174-636737b11d34"
      }
     }
    },
    "b0e1146c-6aa5-4257-9cfa-73b795b62ddd": {
     "id": "b0e1146c-6aa5-4257-9cfa-73b795b62ddd",
     "prev": "d64b1474-46d8-4b16-aeb7-a28b4e704134",
     "regions": {
      "fb7132d2-2481-43dc-a886-e6e93dff3668": {
       "attrs": {
        "height": 0.8,
        "width": 0.8,
        "x": 0.1,
        "y": 0.1
       },
       "content": {
        "cell": "682f37e0-1a77-49cc-af9a-7bf637e69ba0",
        "part": "whole"
       },
       "id": "fb7132d2-2481-43dc-a886-e6e93dff3668"
      }
     }
    },
    "bd147705-375a-4010-b9cd-9bfad14e131f": {
     "id": "bd147705-375a-4010-b9cd-9bfad14e131f",
     "prev": "94fdc3da-0ffd-4da7-a7c3-2a7b4211e266",
     "regions": {
      "92deed6b-dea5-4f7c-859a-f165ccbc6e3a": {
       "attrs": {
        "height": 0.8,
        "width": 0.8,
        "x": 0.1,
        "y": 0.1
       },
       "content": {
        "cell": "64806d02-02bd-4a2c-aa1c-bba2842ca4bc",
        "part": "whole"
       },
       "id": "92deed6b-dea5-4f7c-859a-f165ccbc6e3a"
      }
     }
    },
    "c79afc15-c05c-4caf-8ba3-088966deba9b": {
     "id": "c79afc15-c05c-4caf-8ba3-088966deba9b",
     "prev": "6e4346f0-c44a-49c0-8bdb-03982afe50d6",
     "regions": {
      "a4066a78-b7ab-4ed8-aefb-14d0b0c775f0": {
       "attrs": {
        "height": 0.8,
        "width": 0.8,
        "x": 0.1,
        "y": 0.1
       },
       "content": {
        "cell": "b7be8ab7-f2f7-4e99-b527-a33b08e7d7f4",
        "part": "whole"
       },
       "id": "a4066a78-b7ab-4ed8-aefb-14d0b0c775f0"
      }
     }
    },
    "d64b1474-46d8-4b16-aeb7-a28b4e704134": {
     "id": "d64b1474-46d8-4b16-aeb7-a28b4e704134",
     "prev": "2514fd57-449a-40b7-aba3-c73caba85fb7",
     "regions": {
      "f30aee8a-676c-4860-9fa3-1dc8bd9464ce": {
       "attrs": {
        "height": 0.8,
        "width": 0.8,
        "x": 0.1,
        "y": 0.1
       },
       "content": {
        "cell": "3fdd50f6-5702-4eeb-87a5-ebf3b7ffc414",
        "part": "whole"
       },
       "id": "f30aee8a-676c-4860-9fa3-1dc8bd9464ce"
      }
     }
    },
    "d84dbfaf-89b2-4e04-99d0-de9f77958c7c": {
     "id": "d84dbfaf-89b2-4e04-99d0-de9f77958c7c",
     "prev": "e9d159a1-7d33-40b5-b097-c963c3abc1a6",
     "regions": {
      "7462c7ef-0283-49d0-a02e-c63c0fec91e8": {
       "attrs": {
        "height": 0.8,
        "width": 0.8,
        "x": 0.1,
        "y": 0.1
       },
       "content": {
        "cell": "878ac76e-8f0e-4b48-8a40-4ea820945dd3",
        "part": "whole"
       },
       "id": "7462c7ef-0283-49d0-a02e-c63c0fec91e8"
      }
     }
    },
    "dda5d129-20b9-44a4-bd28-9bb0a898c175": {
     "id": "dda5d129-20b9-44a4-bd28-9bb0a898c175",
     "prev": "52d4834e-3c84-4638-acd3-168c9362884c",
     "regions": {
      "20a6d10f-3be1-4646-b2ec-98d8e2cee92c": {
       "attrs": {
        "height": 0.8,
        "width": 0.8,
        "x": 0.1,
        "y": 0.1
       },
       "content": {
        "cell": "a2465c0b-7e82-4ba5-b39c-40a370de4001",
        "part": "whole"
       },
       "id": "20a6d10f-3be1-4646-b2ec-98d8e2cee92c"
      }
     }
    },
    "e9d159a1-7d33-40b5-b097-c963c3abc1a6": {
     "id": "e9d159a1-7d33-40b5-b097-c963c3abc1a6",
     "prev": "3ddc1671-126f-4603-a802-3903c3668393",
     "regions": {
      "0fee1ca5-d9d3-48bd-b3ee-a68b51afcc7f": {
       "attrs": {
        "height": 0.8,
        "width": 0.8,
        "x": 0.1,
        "y": 0.1
       },
       "content": {
        "cell": "451b7925-32cd-49c3-9093-75d4ecefe04e",
        "part": "whole"
       },
       "id": "0fee1ca5-d9d3-48bd-b3ee-a68b51afcc7f"
      }
     }
    }
   },
   "themes": {}
  }
 },
 "nbformat": 4,
 "nbformat_minor": 1
}
